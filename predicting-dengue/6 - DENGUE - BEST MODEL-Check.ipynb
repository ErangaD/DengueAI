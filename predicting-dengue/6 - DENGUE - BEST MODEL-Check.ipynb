{
 "cells": [
  {
   "cell_type": "markdown",
   "metadata": {},
   "source": [
    "# BEST MODEL\n",
    "Paste parameters and workflow of best model here"
   ]
  },
  {
   "cell_type": "code",
   "execution_count": 5,
   "metadata": {},
   "outputs": [],
   "source": [
    "import pandas as pd\n",
    "import numpy as np\n",
    "\n",
    "import matplotlib.pyplot as plt\n",
    "import seaborn as sns\n",
    "%matplotlib inline\n",
    "plt.style.use('bmh')\n",
    "\n",
    "from sklearn.preprocessing import StandardScaler\n",
    "from sklearn.linear_model import LinearRegression, LogisticRegression\n",
    "from sklearn.ensemble import RandomForestRegressor, RandomForestClassifier\n",
    "from sklearn.model_selection import GridSearchCV\n",
    "\n",
    "from sklearn.metrics import mean_absolute_error"
   ]
  },
  {
   "cell_type": "code",
   "execution_count": 6,
   "metadata": {},
   "outputs": [],
   "source": [
    "df_sj = pd.read_pickle('./datasets/all_sj.pkl')\n",
    "df_iq = pd.read_pickle('./datasets/all_iq.pkl')\n",
    "# read in pickled features\n",
    "total_cases = pd.read_csv('./datasets/dengue_labels_train.csv')\n",
    "cases_sj = total_cases[total_cases['city'] == 'sj']['total_cases']\n",
    "cases_iq = total_cases[total_cases['city'] == 'iq']['total_cases']\n",
    "# create month variable\n",
    "df_sj['month'] = df_sj.index.month\n",
    "df_iq['month'] = df_iq.index.month\n",
    "# create mean ndvi\n",
    "df_sj['ndvi_mean'] = (df_sj['ndvi_ne'] + df_sj['ndvi_nw'] + df_sj['ndvi_se'] + df_sj['ndvi_sw']) / 4.0\n",
    "df_iq['ndvi_mean'] = (df_iq['ndvi_ne'] + df_iq['ndvi_nw'] + df_iq['ndvi_se'] + df_iq['ndvi_sw']) / 4.0"
   ]
  },
  {
   "cell_type": "markdown",
   "metadata": {},
   "source": [
    "## Train-Validation-Test Split\n",
    "Because this is time-series data and the features set is dependent on the past, the train test split is very delicate. The validation and test feature set will actually draw from data in the past (rolling mean, std, etc.). Therefore, when creating the model, the entire dataset must be used. But I must be careful not to train the model on data from the 'future'."
   ]
  },
  {
   "cell_type": "markdown",
   "metadata": {},
   "source": [
    "### San Juan"
   ]
  },
  {
   "cell_type": "code",
   "execution_count": 7,
   "metadata": {},
   "outputs": [
    {
     "data": {
      "text/plain": [
       "LinearRegression(copy_X=True, fit_intercept=True, n_jobs=1, normalize=False)"
      ]
     },
     "execution_count": 7,
     "metadata": {},
     "output_type": "execute_result"
    }
   ],
   "source": [
    "# get monthly trend of whole test df\n",
    "lr_sj_month = LinearRegression()\n",
    "X_months = pd.get_dummies(df_sj['month'], prefix='month')[:936]\n",
    "Xtest_months = pd.get_dummies(df_sj['month'], prefix='month')[936:]\n",
    "y = cases_sj.values\n",
    "\n",
    "lr_sj_month.fit(X_months, y)\n",
    "lr_sj_predictions = lr_sj_month.predict(X_months)\n",
    "monthly_trend = pd.Series(lr_sj_predictions).rolling(3, min_periods=1).mean()\n",
    "sj_residuals_all = y - monthly_trend  #actual is reduced by the values taken\n",
    "\n",
    "\n",
    "# create test df of rolling weather stats\n",
    "# rolling means df\n",
    "# selecting features\n",
    "Xtrain_means1 = df_sj['station_avg_temp_c'].rolling(window = 52).mean()[60:936]\n",
    "Xtrain_means2 = df_sj['ndvi_se'].rolling(window = 25).mean()[60:936]\n",
    "\n",
    "\n",
    "# combine all dfs\n",
    "# check and include to features\n",
    "Xtrain = pd.concat([Xtrain_means1], axis = 1)\n",
    "ytrain = sj_residuals_all[60:]\n",
    "\n",
    "\n",
    "# create test df on rolling weather stats\n",
    "# rolling means df\n",
    "Xtest_means1 = df_sj['station_avg_temp_c'].rolling(window = 52).mean()[936:]\n",
    "Xtest_means2 = df_sj['ndvi_se'].rolling(window = 25).mean()[936:]\n",
    "\n",
    "# combine all dfs\n",
    "Xtest_weather = pd.concat([Xtest_means1], axis = 1)\n",
    "\n",
    "# fit on model\n",
    "lr_sj_resid = LinearRegression()\n",
    "lr_sj_resid.fit(Xtrain, ytrain)"
   ]
  },
  {
   "cell_type": "code",
   "execution_count": null,
   "metadata": {},
   "outputs": [],
   "source": []
  },
  {
   "cell_type": "code",
   "execution_count": 4,
   "metadata": {},
   "outputs": [],
   "source": [
    "# make predictions on monthly data and residual data\n",
    "lr_sj_monthly_predictions = lr_sj_month.predict(Xtest_months)  # model trained x_months and cases_sj\n",
    "sj_monthly_preds = pd.Series(lr_sj_monthly_predictions).rolling(3, min_periods=1).mean()\n",
    "sj_resid_preds = lr_sj_resid.predict(Xtest_weather)\n",
    "sj_cases_pred = pd.Series(sj_resid_preds + sj_monthly_preds).rolling(1, min_periods=1).mean()\n",
    "sj_cases_pred = sj_cases_pred.apply(lambda x: 1 if x < 1 else int(x))"
   ]
  },
  {
   "cell_type": "code",
   "execution_count": null,
   "metadata": {},
   "outputs": [],
   "source": []
  },
  {
   "cell_type": "code",
   "execution_count": 8,
   "metadata": {},
   "outputs": [
    {
     "data": {
      "text/plain": [
       "[<matplotlib.lines.Line2D at 0x7ff0ff11d780>]"
      ]
     },
     "execution_count": 8,
     "metadata": {},
     "output_type": "execute_result"
    },
    {
     "data": {
      "image/png": "[encoded data removed]",
      "text/plain": [
       "<Figure size 432x288 with 1 Axes>"
      ]
     },
     "metadata": {},
     "output_type": "display_data"
    }
   ],
   "source": [
    "Xtest_means1_for_train_data = df_sj['station_avg_temp_c'].rolling(window = 52, min_periods=1).mean()[:936]\n",
    "Xtest_weather = pd.concat([Xtest_means1_for_train_data], axis = 1)\n",
    "residual_predictions_for_train_data = lr_sj_resid.predict(Xtest_weather)\n",
    "\n",
    "residual_predictions_for_train_data_plot = pd.Series(residual_predictions_for_train_data).rolling(1, min_periods=1).mean()\n",
    "plt.plot(residual_predictions_for_train_data_plot)\n",
    "# plt.plot(y)"
   ]
  },
  {
   "cell_type": "markdown",
   "metadata": {},
   "source": [
    "### Iquitos"
   ]
  },
  {
   "cell_type": "code",
   "execution_count": 5,
   "metadata": {},
   "outputs": [
    {
     "data": {
      "text/plain": [
       "LinearRegression(copy_X=True, fit_intercept=True, n_jobs=1, normalize=False)"
      ]
     },
     "execution_count": 5,
     "metadata": {},
     "output_type": "execute_result"
    }
   ],
   "source": [
    "# get monthly trend of whole test df\n",
    "lr_iq_month = LinearRegression()\n",
    "X_months = pd.get_dummies(df_iq['month'], prefix='month')[:520]\n",
    "Xtest_months = pd.get_dummies(df_iq['month'], prefix='month')[520:]\n",
    "y = cases_iq.values\n",
    "\n",
    "lr_iq_month.fit(X_months, y)\n",
    "monthly_trend = pd.Series(lr_iq_month.predict(X_months)).rolling(8, min_periods=1).mean()\n",
    "iq_residuals_all = y - monthly_trend\n",
    "\n",
    "# create test df of rolling weather stats\n",
    "# rolling means df\n",
    "Xtrain_means1 = df_iq['station_avg_temp_c'].rolling(window = 52).mean()[60:520]\n",
    "\n",
    "# combine all dfs\n",
    "Xtrain = pd.concat([Xtrain_means1], axis = 1)\n",
    "ytrain = iq_residuals_all[60:]\n",
    "\n",
    "\n",
    "# create test df on rolling weather stats\n",
    "# rolling means df\n",
    "Xtest_means1 = df_iq['station_avg_temp_c'].rolling(window = 52).mean()[520:]\n",
    "\n",
    "# combine all dfs\n",
    "Xtest_weather = pd.concat([Xtest_means1], axis = 1)\n",
    "\n",
    "# fit on model\n",
    "lr_iq_resid = LinearRegression()\n",
    "lr_iq_resid.fit(Xtrain, ytrain)"
   ]
  },
  {
   "cell_type": "code",
   "execution_count": 6,
   "metadata": {},
   "outputs": [],
   "source": [
    "# make predictions on monthly data and residual data\n",
    "iq_monthly_preds = pd.Series(lr_iq_month.predict(Xtest_months)).rolling(8, min_periods=1).mean()\n",
    "iq_resid_preds = lr_iq_resid.predict(Xtest_weather)\n",
    "iq_cases_pred = pd.Series(iq_monthly_preds + iq_resid_preds)\n",
    "iq_cases_pred = iq_cases_pred.apply(lambda x: 0 if x < 1 else int(x))"
   ]
  },
  {
   "cell_type": "code",
   "execution_count": 7,
   "metadata": {},
   "outputs": [],
   "source": [
    "total_preds_linear_regression = list(sj_cases_pred) + list(iq_cases_pred)"
   ]
  },
  {
   "cell_type": "code",
   "execution_count": 113,
   "metadata": {},
   "outputs": [
    {
     "data": {
      "text/plain": [
       "RandomForestRegressor(bootstrap=True, criterion='mae', max_depth=10,\n",
       "           max_features='auto', max_leaf_nodes=None,\n",
       "           min_impurity_decrease=0.0, min_impurity_split=None,\n",
       "           min_samples_leaf=0.005, min_samples_split=2,\n",
       "           min_weight_fraction_leaf=0.1, n_estimators=1000, n_jobs=1,\n",
       "           oob_score=False, random_state=None, verbose=0, warm_start=True)"
      ]
     },
     "execution_count": 113,
     "metadata": {},
     "output_type": "execute_result"
    }
   ],
   "source": [
    "from sklearn.ensemble import RandomForestRegressor\n",
    "rf_monthly_sj = RandomForestRegressor(n_estimators=1000, max_features='auto',\n",
    "                                 max_depth=10, min_samples_leaf=0.005,\n",
    "                                 criterion='mae', min_weight_fraction_leaf=0.1\n",
    "                                , warm_start=True)\n",
    "\n",
    "X_months = pd.get_dummies(df_sj['month'], prefix='month')[:936]\n",
    "Xtest_months = pd.get_dummies(df_sj['month'], prefix='month')[936:]\n",
    "y = cases_sj.values\n",
    "\n",
    "rf_monthly_sj.fit(X_months,y)\n",
    "\n",
    "rf_sj_predictions = rf_monthly_sj.predict(X_months)\n",
    "monthly_trend = pd.Series(rf_sj_predictions).rolling(3, min_periods=1).mean()\n",
    "sj_residuals_all = y - monthly_trend  #actual is reduced by the values taken\n",
    "\n",
    "# create test df of rolling weather stats\n",
    "# rolling means df\n",
    "# selecting features\n",
    "Xtrain_means1 = df_sj['station_avg_temp_c'].rolling(window = 53).mean()[60:936]\n",
    "Xtrain_means2 = df_sj['precipitation_amt_mm'].rolling(window = 53).mean()[60:936]\n",
    "Xtrain_means3 = df_sj['ndvi_se'].rolling(window = 25).mean()[60:936]\n",
    "\n",
    "# combine all dfs\n",
    "# check and include to features\n",
    "Xtrain = pd.concat([Xtrain_means1, Xtrain_means2, Xtrain_means3], axis = 1)\n",
    "ytrain = sj_residuals_all[60:]\n",
    "\n",
    "\n",
    "# create test df on rolling weather stats\n",
    "# rolling means df\n",
    "Xtest_means1 = df_sj['station_avg_temp_c'].rolling(window = 53).mean()[936:]\n",
    "Xtest_means2 = df_sj['precipitation_amt_mm'].rolling(window = 53).mean()[936:]\n",
    "Xtest_means3 = df_sj['ndvi_se'].rolling(window = 25).mean()[936:]\n",
    "\n",
    "# combine all dfs\n",
    "Xtest_weather = pd.concat([Xtest_means1, Xtest_means2, Xtest_means3], axis = 1)\n",
    "\n",
    "# fit on model\n",
    "rf_sj_resid = RandomForestRegressor(n_estimators=1000, max_features='auto',\n",
    "                                 max_depth=10, min_samples_leaf=0.005,\n",
    "                                 criterion='mae', min_weight_fraction_leaf=0.1\n",
    "                                , warm_start=True)\n",
    "# train the model using selected features\n",
    "rf_sj_resid.fit(Xtrain, ytrain)"
   ]
  },
  {
   "cell_type": "code",
   "execution_count": 119,
   "metadata": {},
   "outputs": [],
   "source": [
    "# plt.plot(y)\n",
    "# plt.plot(monthly_trend)\n",
    "# mean_absolute_error(y, monthly_trend)"
   ]
  },
  {
   "cell_type": "code",
   "execution_count": 115,
   "metadata": {},
   "outputs": [],
   "source": [
    "# make predictions on monthly data and residual data\n",
    "rf_sj_monthly_predictions = rf_monthly_sj.predict(Xtest_months)  # model trained x_months and cases_sj\n",
    "sj_monthly_preds = pd.Series(rf_sj_monthly_predictions).rolling(3, min_periods=1).mean()\n",
    "sj_resid_preds = rf_sj_resid.predict(Xtest_weather)\n",
    "sj_cases_pred = pd.Series(sj_resid_preds + sj_monthly_preds).rolling(1, min_periods=1).mean()\n",
    "sj_cases_pred = sj_cases_pred.apply(lambda x: 1 if x < 1 else int(x))"
   ]
  },
  {
   "cell_type": "code",
   "execution_count": null,
   "metadata": {},
   "outputs": [],
   "source": [
    "plt.plot(y)\n",
    "plt.plot(monthly_trend)"
   ]
  },
  {
   "cell_type": "code",
   "execution_count": 116,
   "metadata": {},
   "outputs": [
    {
     "data": {
      "text/plain": [
       "RandomForestRegressor(bootstrap=True, criterion='mae', max_depth=10,\n",
       "           max_features='auto', max_leaf_nodes=None,\n",
       "           min_impurity_decrease=0.0, min_impurity_split=None,\n",
       "           min_samples_leaf=0.005, min_samples_split=2,\n",
       "           min_weight_fraction_leaf=0.1, n_estimators=1000, n_jobs=1,\n",
       "           oob_score=False, random_state=None, verbose=0, warm_start=True)"
      ]
     },
     "execution_count": 116,
     "metadata": {},
     "output_type": "execute_result"
    }
   ],
   "source": [
    "rf_monthly_iq = RandomForestRegressor(n_estimators=1000, max_features='auto',\n",
    "                                 max_depth=10, min_samples_leaf=0.005,\n",
    "                                 criterion='mae', min_weight_fraction_leaf=0.1\n",
    "                                , warm_start=True)\n",
    "\n",
    "X_months = pd.get_dummies(df_iq['month'], prefix='month')[:520]\n",
    "Xtest_months = pd.get_dummies(df_iq['month'], prefix='month')[520:]\n",
    "y = cases_iq.values\n",
    "\n",
    "rf_monthly_iq.fit(X_months, y)\n",
    "monthly_trend = pd.Series(rf_monthly_iq.predict(X_months)).rolling(8, min_periods=1).mean()\n",
    "iq_residuals_all = y - monthly_trend\n",
    "\n",
    "# rolling means df\n",
    "Xtrain_means1 = df_iq['station_avg_temp_c'].rolling(window = 53).mean()[60:520]\n",
    "Xtrain_means2 = df_iq['precipitation_amt_mm'].rolling(window = 5).mean()[60:520]\n",
    "# combine all dfs\n",
    "Xtrain = pd.concat([Xtrain_means1, Xtrain_means2], axis = 1)\n",
    "ytrain = iq_residuals_all[60:]\n",
    "\n",
    "\n",
    "# create test df on rolling weather stats\n",
    "# rolling means df\n",
    "Xtest_means1 = df_iq['station_avg_temp_c'].rolling(window = 53).mean()[520:]\n",
    "Xtest_means2 = df_iq['precipitation_amt_mm'].rolling(window = 5).mean()[520:]\n",
    "# combine all dfs\n",
    "Xtest_weather = pd.concat([Xtest_means1, Xtest_means2], axis = 1)\n",
    "\n",
    "# fit on model\n",
    "rf_iq_resid = RandomForestRegressor(n_estimators=1000, max_features='auto',\n",
    "                                 max_depth=10, min_samples_leaf=0.005,\n",
    "                                 criterion='mae', min_weight_fraction_leaf=0.1\n",
    "                                , warm_start=True)\n",
    "rf_iq_resid.fit(Xtrain, ytrain)"
   ]
  },
  {
   "cell_type": "code",
   "execution_count": 117,
   "metadata": {},
   "outputs": [],
   "source": [
    "# make predictions on monthly data and residual data\n",
    "iq_monthly_preds = pd.Series(rf_monthly_iq.predict(Xtest_months)).rolling(8, min_periods=1).mean()\n",
    "iq_resid_preds = rf_iq_resid.predict(Xtest_weather)\n",
    "iq_cases_pred = pd.Series(iq_monthly_preds + iq_resid_preds)\n",
    "iq_cases_pred = iq_cases_pred.apply(lambda x: 0 if x < 1 else int(x))"
   ]
  },
  {
   "cell_type": "code",
   "execution_count": 118,
   "metadata": {},
   "outputs": [
    {
     "data": {
      "text/plain": [
       "12.651442307692308"
      ]
     },
     "execution_count": 118,
     "metadata": {},
     "output_type": "execute_result"
    }
   ],
   "source": [
    "total_preds_random_forest = list(sj_cases_pred) + list(iq_cases_pred)\n",
    "error = mean_absolute_error(total_preds_linear_regression, total_preds_random_forest)\n",
    "error"
   ]
  },
  {
   "cell_type": "code",
   "execution_count": 91,
   "metadata": {},
   "outputs": [
    {
     "data": {
      "text/plain": [
       "[<matplotlib.lines.Line2D at 0x7f321c4737b8>]"
      ]
     },
     "execution_count": 91,
     "metadata": {},
     "output_type": "execute_result"
    },
    {
     "data": {
      "image/png": "[encoded data removed]",
      "text/plain": [
       "<Figure size 432x288 with 1 Axes>"
      ]
     },
     "metadata": {},
     "output_type": "display_data"
    }
   ],
   "source": [
    "plt.plot(total_preds_random_forest)\n",
    "plt.plot(total_preds_linear_regression)\n"
   ]
  },
  {
   "cell_type": "code",
   "execution_count": null,
   "metadata": {},
   "outputs": [],
   "source": []
  },
  {
   "cell_type": "code",
   "execution_count": 84,
   "metadata": {},
   "outputs": [],
   "source": [
    "### Make CSV"
   ]
  },
  {
   "cell_type": "code",
   "execution_count": 8,
   "metadata": {},
   "outputs": [],
   "source": [
    "# submission\n",
    "submission_format = pd.read_csv('./datasets/submission_format.csv')"
   ]
  },
  {
   "cell_type": "code",
   "execution_count": 9,
   "metadata": {},
   "outputs": [],
   "source": [
    "submission_format['total_cases'] = total_preds_linear_regression\n",
    "submission_format['total_cases'] = submission_format['total_cases'].apply(lambda x: int(x))"
   ]
  },
  {
   "cell_type": "code",
   "execution_count": 10,
   "metadata": {},
   "outputs": [],
   "source": [
    "# Save to CSV, use current date\n",
    "submission_format.to_csv('submissions/dengue_submission_21_07_18v2.csv', index=False)"
   ]
  },
  {
   "cell_type": "code",
   "execution_count": 11,
   "metadata": {},
   "outputs": [
    {
     "data": {
      "text/html": [
       "<div>\n",
       "<style scoped>\n",
       "    .dataframe tbody tr th:only-of-type {\n",
       "        vertical-align: middle;\n",
       "    }\n",
       "\n",
       "    .dataframe tbody tr th {\n",
       "        vertical-align: top;\n",
       "    }\n",
       "\n",
       "    .dataframe thead th {\n",
       "        text-align: right;\n",
       "    }\n",
       "</style>\n",
       "<table border=\"1\" class=\"dataframe\">\n",
       "  <thead>\n",
       "    <tr style=\"text-align: right;\">\n",
       "      <th></th>\n",
       "      <th>city</th>\n",
       "      <th>year</th>\n",
       "      <th>weekofyear</th>\n",
       "      <th>total_cases</th>\n",
       "    </tr>\n",
       "  </thead>\n",
       "  <tbody>\n",
       "    <tr>\n",
       "      <th>0</th>\n",
       "      <td>sj</td>\n",
       "      <td>2008</td>\n",
       "      <td>18</td>\n",
       "      <td>7</td>\n",
       "    </tr>\n",
       "    <tr>\n",
       "      <th>1</th>\n",
       "      <td>sj</td>\n",
       "      <td>2008</td>\n",
       "      <td>19</td>\n",
       "      <td>7</td>\n",
       "    </tr>\n",
       "    <tr>\n",
       "      <th>2</th>\n",
       "      <td>sj</td>\n",
       "      <td>2008</td>\n",
       "      <td>20</td>\n",
       "      <td>6</td>\n",
       "    </tr>\n",
       "    <tr>\n",
       "      <th>3</th>\n",
       "      <td>sj</td>\n",
       "      <td>2008</td>\n",
       "      <td>21</td>\n",
       "      <td>5</td>\n",
       "    </tr>\n",
       "    <tr>\n",
       "      <th>4</th>\n",
       "      <td>sj</td>\n",
       "      <td>2008</td>\n",
       "      <td>22</td>\n",
       "      <td>5</td>\n",
       "    </tr>\n",
       "  </tbody>\n",
       "</table>\n",
       "</div>"
      ],
      "text/plain": [
       "  city  year  weekofyear  total_cases\n",
       "0   sj  2008          18            7\n",
       "1   sj  2008          19            7\n",
       "2   sj  2008          20            6\n",
       "3   sj  2008          21            5\n",
       "4   sj  2008          22            5"
      ]
     },
     "execution_count": 11,
     "metadata": {},
     "output_type": "execute_result"
    }
   ],
   "source": [
    "submission_format.head()"
   ]
  },
  {
   "cell_type": "code",
   "execution_count": 32,
   "metadata": {},
   "outputs": [
    {
     "name": "stderr",
     "output_type": "stream",
     "text": [
      "/home/eranga/.local/lib/python3.5/site-packages/ipykernel_launcher.py:4: SettingWithCopyWarning: \n",
      "A value is trying to be set on a copy of a slice from a DataFrame.\n",
      "Try using .loc[row_indexer,col_indexer] = value instead\n",
      "\n",
      "See the caveats in the documentation: http://pandas.pydata.org/pandas-docs/stable/indexing.html#indexing-view-versus-copy\n",
      "  after removing the cwd from sys.path.\n",
      "/home/eranga/.local/lib/python3.5/site-packages/pandas/core/indexing.py:543: SettingWithCopyWarning: \n",
      "A value is trying to be set on a copy of a slice from a DataFrame.\n",
      "Try using .loc[row_indexer,col_indexer] = value instead\n",
      "\n",
      "See the caveats in the documentation: http://pandas.pydata.org/pandas-docs/stable/indexing.html#indexing-view-versus-copy\n",
      "  self.obj[item] = s\n"
     ]
    }
   ],
   "source": [
    "predictions_for_sj = submission_format[submission_format['city']=='sj']\n",
    "\n",
    "special_week_data_sj = predictions_for_sj[(predictions_for_sj['weekofyear'] >= 35) & (predictions_for_sj['weekofyear'] <= 45)]\n",
    "special_week_data['total_cases'] = special_week_data['total_cases'] + 10\n",
    "predictions_for_sj.loc[special_week_data_sj.index, 'total_cases'] =special_week_data['total_cases']"
   ]
  },
  {
   "cell_type": "code",
   "execution_count": 33,
   "metadata": {},
   "outputs": [
    {
     "name": "stderr",
     "output_type": "stream",
     "text": [
      "/home/eranga/.local/lib/python3.5/site-packages/ipykernel_launcher.py:5: SettingWithCopyWarning: \n",
      "A value is trying to be set on a copy of a slice from a DataFrame.\n",
      "Try using .loc[row_indexer,col_indexer] = value instead\n",
      "\n",
      "See the caveats in the documentation: http://pandas.pydata.org/pandas-docs/stable/indexing.html#indexing-view-versus-copy\n",
      "  \"\"\"\n",
      "/home/eranga/.local/lib/python3.5/site-packages/pandas/core/indexing.py:543: SettingWithCopyWarning: \n",
      "A value is trying to be set on a copy of a slice from a DataFrame.\n",
      "Try using .loc[row_indexer,col_indexer] = value instead\n",
      "\n",
      "See the caveats in the documentation: http://pandas.pydata.org/pandas-docs/stable/indexing.html#indexing-view-versus-copy\n",
      "  self.obj[item] = s\n"
     ]
    }
   ],
   "source": [
    "predictions_for_iq = submission_format[submission_format['city']=='iq']\n",
    "\n",
    "special_week_data_iq = predictions_for_iq[(predictions_for_iq['weekofyear'] >= 45) & (predictions_for_iq['weekofyear'] <= 50)]\n",
    "\n",
    "special_week_data_iq['total_cases'] = special_week_data_iq['total_cases'] + 10\n",
    "\n",
    "predictions_for_iq.loc[special_week_data_iq.index, 'total_cases'] =special_week_data_iq['total_cases']"
   ]
  },
  {
   "cell_type": "code",
   "execution_count": 49,
   "metadata": {},
   "outputs": [],
   "source": [
    "final_submit = pd.concat([predictions_for_sj,predictions_for_iq])\n"
   ]
  },
  {
   "cell_type": "code",
   "execution_count": 51,
   "metadata": {},
   "outputs": [],
   "source": [
    "final_submit.to_csv('submissions/dengue_submission_19_07_18v2.csv', index=False)"
   ]
  },
  {
   "cell_type": "markdown",
   "metadata": {
    "collapsed": true
   },
   "source": [
    "### Submitted MAEs!!!!\n",
    "* monthly trend and mean `station_avg_temp_c` with window = 52 was 20.7764\n",
    "* monthly trend and mean `station_avg_temp_c` with window = 52 and std window = 8 was 20.7981\n",
    "* monthly trend and mean `station_avg_temp_c` and `precipitation_amt_mm` with window = 52 and std window = 8 was 24.1274\n",
    "* monthly trend and sj used mean `station_avg_temp_c` with window = 55 and iq used 'ndvi_nw' with window = 68 was 23.5697\n",
    "* monthly trend and sj used mean `station_avg_temp_c` with window = 55 and `ndvi_se` with window = 10 and iq used 'ndvi_nw' with window = 68 was 21.337\n",
    "* Next steps: use other rolling features (and std? and shifted? and exponentially weighted mean?)"
   ]
  },
  {
   "cell_type": "code",
   "execution_count": null,
   "metadata": {
    "collapsed": true
   },
   "outputs": [],
   "source": []
  }
 ],
 "metadata": {
  "kernelspec": {
   "display_name": "Python 3",
   "language": "python",
   "name": "python3"
  },
  "language_info": {
   "codemirror_mode": {
    "name": "ipython",
    "version": 3
   },
   "file_extension": ".py",
   "mimetype": "text/x-python",
   "name": "python",
   "nbconvert_exporter": "python",
   "pygments_lexer": "ipython3",
   "version": "3.5.2"
  }
 },
 "nbformat": 4,
 "nbformat_minor": 2
}
