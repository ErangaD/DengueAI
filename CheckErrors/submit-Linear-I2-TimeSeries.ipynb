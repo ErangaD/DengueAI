{
 "cells": [
  {
   "cell_type": "code",
   "execution_count": 16,
   "metadata": {},
   "outputs": [],
   "source": [
    "import pandas as pd\n",
    "import numpy as np\n",
    "import matplotlib.pylab as plt\n",
    "\n",
    "import scipy as sc\n",
    "from sklearn.model_selection import train_test_split\n",
    "from sklearn.metrics import mean_absolute_error\n",
    "\n",
    "#ndvi = density of green\n",
    "#precipitation = rain amount\n",
    "\n",
    "df = pd.read_csv('dengue_features_train.csv')\n",
    "\n",
    "label_columns = ['city', 'total_cases']\n",
    "labels = pd.read_csv('dengue_labels_train.csv')\n",
    "# df = pd.read_csv('dengue_features_train.csv', index_col=[3], parse_dates=['week_start_date'])\n",
    "data = pd.concat([df, labels['total_cases']], axis=1, join_axes=[df.index])\n",
    "data['week_start_date'] = pd.to_datetime(data['week_start_date'])\n",
    "data = data.set_index('week_start_date')"
   ]
  },
  {
   "cell_type": "code",
   "execution_count": 24,
   "metadata": {},
   "outputs": [
    {
     "data": {
      "text/plain": [
       "[<matplotlib.lines.Line2D at 0x7f662862d828>]"
      ]
     },
     "execution_count": 24,
     "metadata": {},
     "output_type": "execute_result"
    },
    {
     "data": {
      "image/png": "[encoded data removed]",
      "text/plain": [
       "<Figure size 432x288 with 1 Axes>"
      ]
     },
     "metadata": {},
     "output_type": "display_data"
    }
   ],
   "source": [
    "ts = data['total_cases']\n",
    "rt = ts.head(10)\n",
    "plt.plot(ts)"
   ]
  },
  {
   "cell_type": "code",
   "execution_count": null,
   "metadata": {},
   "outputs": [],
   "source": [
    "data = data.dropna()\n",
    "data['precipitation_amt_mm'] = data['precipitation_amt_mm'].rolling(window=50, min_periods=(1)).mean()\n",
    "data['station_avg_temp_c'] = data['station_avg_temp_c'].rolling(window=50, min_periods=(1)).mean()\n",
    "\n",
    "\n",
    "data_sj = data[data['city']=='sj']\n",
    "data_iq = data[data['city']=='iq']\n",
    "\n",
    "data_sj = data_sj.drop('city', axis=1)\n",
    "data_iq = data_iq.drop('city', axis=1)\n",
    "data_sj = data_sj.drop('total_cases', axis=1)\n",
    "data_iq = data_iq.drop('total_cases', axis=1)\n",
    "\n",
    "\n",
    "labels_sj = data[data['city']=='sj']\n",
    "labels_iq = data[data['city']=='iq']\n",
    "\n",
    "sj_train_features, sj_test_features, sj_train_labels, sj_test_labels = train_test_split(\n",
    "    data_sj, labels_sj['total_cases'], test_size=0.25, random_state=0, shuffle=False)\n",
    "\n",
    "iq_train_features, iq_test_features, iq_train_labels, iq_test_labels = train_test_split(\n",
    "    data_iq, labels_iq['total_cases'], test_size=0.25, random_state=0, shuffle=False)"
   ]
  },
  {
   "cell_type": "code",
   "execution_count": null,
   "metadata": {},
   "outputs": [],
   "source": [
    ""
   ]
  },
  {
   "cell_type": "code",
   "execution_count": 33,
   "metadata": {},
   "outputs": [],
   "source": [
    "# df['week_start_date'] = pd.to_datetime(df['week_start_date'])\n",
    "# df['week_start_date'] = df['week_start_date'].dt.week"
   ]
  },
  {
   "cell_type": "code",
   "execution_count": 20,
   "metadata": {},
   "outputs": [],
   "source": [
    ""
   ]
  },
  {
   "cell_type": "code",
   "execution_count": null,
   "metadata": {},
   "outputs": [],
   "source": [
    ""
   ]
  },
  {
   "cell_type": "code",
   "execution_count": 2,
   "metadata": {},
   "outputs": [],
   "source": [
    "from sklearn import linear_model\n",
    "\n",
    "# # for sj\n",
    "X = sj_train_features\n",
    "y = sj_train_labels\n",
    "\n",
    "X1 = iq_train_features\n",
    "y1 = iq_train_labels"
   ]
  },
  {
   "cell_type": "code",
   "execution_count": 3,
   "metadata": {},
   "outputs": [],
   "source": [
    "# lm1 = linear_model.LinearRegression()\n",
    "# lm1.fit(X,y)\n",
    "\n",
    "# predictions_sj = lm1.predict(test_features_sj).astype(int)\n",
    "# predictions_sj = predictions_sj.clip(min=0)\n",
    "\n",
    "# lm2 = linear_model.LinearRegression()\n",
    "\n",
    "# lm2.fit(X1, y1)\n",
    "\n",
    "# predictions_iq = lm2.predict(test_features_iq).astype(int)\n",
    "# predictions_iq = predictions_iq.clip(min=0)"
   ]
  },
  {
   "cell_type": "code",
   "execution_count": 23,
   "metadata": {},
   "outputs": [],
   "source": [
    ""
   ]
  },
  {
   "cell_type": "code",
   "execution_count": 21,
   "metadata": {},
   "outputs": [],
   "source": [
    "# sq_pred_val = lm1.predict(sj_test_features).astype(int)\n",
    "# iq_pred_val = lm2.predict(iq_test_features).astype(int)\n",
    "\n",
    "# iq_error = mean_absolute_error(iq_test_labels, iq_pred_val)\n",
    "# sj_error = mean_absolute_error(sj_test_labels, sq_pred_val)"
   ]
  },
  {
   "cell_type": "code",
   "execution_count": 22,
   "metadata": {},
   "outputs": [
    {
     "data": {
      "text/plain": [
       "(20.593406593406595, 8.099173553719009)"
      ]
     },
     "execution_count": 22,
     "metadata": {},
     "output_type": "execute_result"
    }
   ],
   "source": [
    "sj_error, iq_error"
   ]
  },
  {
   "cell_type": "code",
   "execution_count": 16,
   "metadata": {},
   "outputs": [],
   "source": [
    "# sj_error, iq_error  == (22.188034188034187, 8.36923076923077) without removing nan rows and fill with mean\n",
    "# linear"
   ]
  },
  {
   "cell_type": "code",
   "execution_count": null,
   "metadata": {},
   "outputs": [],
   "source": [
    "# sj_error, iq_error  == (20.593406593406595, 8.099173553719009)  removing nan rows completely\n",
    "# linear"
   ]
  },
  {
   "cell_type": "code",
   "execution_count": null,
   "metadata": {},
   "outputs": [],
   "source": [
    "# --------------------------------------------- Random Forest ---------------------------------"
   ]
  },
  {
   "cell_type": "code",
   "execution_count": 3,
   "metadata": {},
   "outputs": [],
   "source": [
    "from sklearn.ensemble import RandomForestRegressor\n",
    "model = RandomForestRegressor(n_estimators=1000, max_features='auto',\n",
    "                                 max_depth=10, min_samples_leaf=0.005,\n",
    "                                 criterion='mae', min_weight_fraction_leaf=0.1\n",
    "                                , warm_start=True)\n",
    "model.fit(X,y)\n",
    "\n",
    "predictions_sj = model.predict(sj_test_features).astype(int)\n",
    "predictions_sj = predictions_sj.clip(min=0)\n",
    "\n",
    "model1 = RandomForestRegressor(n_estimators=1000, max_features='auto',\n",
    "                                 max_depth=10, min_samples_leaf=0.005,\n",
    "                                 criterion='mae', min_weight_fraction_leaf=0.1\n",
    "                                , warm_start=True)\n",
    "model1.fit(X1, y1)\n",
    "predictions_iq = model1.predict(iq_test_features).astype(int)\n",
    "predictions_iq = predictions_iq.clip(min=0)"
   ]
  },
  {
   "cell_type": "code",
   "execution_count": 4,
   "metadata": {},
   "outputs": [],
   "source": [
    "iq_error = mean_absolute_error(iq_test_labels, predictions_iq)\n",
    "sj_error = mean_absolute_error(sj_test_labels, predictions_sj)"
   ]
  },
  {
   "cell_type": "code",
   "execution_count": 36,
   "metadata": {},
   "outputs": [
    {
     "data": {
      "text/plain": [
       "(17.346153846153847, 7.917355371900826)"
      ]
     },
     "execution_count": 36,
     "metadata": {},
     "output_type": "execute_result"
    }
   ],
   "source": [
    "sj_error, iq_error"
   ]
  },
  {
   "cell_type": "code",
   "execution_count": 6,
   "metadata": {},
   "outputs": [
    {
     "data": {
      "text/plain": [
       "(18.604395604395606, 7.884297520661157)"
      ]
     },
     "execution_count": 6,
     "metadata": {},
     "output_type": "execute_result"
    }
   ],
   "source": [
    "sj_error, iq_error"
   ]
  },
  {
   "cell_type": "code",
   "execution_count": 11,
   "metadata": {},
   "outputs": [
    {
     "data": {
      "text/plain": [
       "(13.934065934065934, 8.12396694214876)"
      ]
     },
     "execution_count": 11,
     "metadata": {},
     "output_type": "execute_result"
    }
   ],
   "source": [
    "sj_error, iq_error"
   ]
  },
  {
   "cell_type": "code",
   "execution_count": 24,
   "metadata": {},
   "outputs": [
    {
     "data": {
      "text/plain": [
       "(13.906593406593407, 8.099173553719009)"
      ]
     },
     "execution_count": 24,
     "metadata": {},
     "output_type": "execute_result"
    }
   ],
   "source": [
    "sj_error, iq_error"
   ]
  },
  {
   "cell_type": "code",
   "execution_count": 5,
   "metadata": {},
   "outputs": [
    {
     "data": {
      "text/plain": [
       "(13.873626373626374, 8.090909090909092)"
      ]
     },
     "execution_count": 5,
     "metadata": {},
     "output_type": "execute_result"
    }
   ],
   "source": [
    "sj_error, iq_error"
   ]
  },
  {
   "cell_type": "code",
   "execution_count": null,
   "metadata": {},
   "outputs": [],
   "source": [
    ""
   ]
  },
  {
   "cell_type": "code",
   "execution_count": null,
   "metadata": {},
   "outputs": [],
   "source": [
    ""
   ]
  },
  {
   "cell_type": "code",
   "execution_count": null,
   "metadata": {},
   "outputs": [],
   "source": [
    ""
   ]
  },
  {
   "cell_type": "code",
   "execution_count": null,
   "metadata": {},
   "outputs": [],
   "source": [
    ""
   ]
  },
  {
   "cell_type": "code",
   "execution_count": null,
   "metadata": {},
   "outputs": [],
   "source": [
    ""
   ]
  },
  {
   "cell_type": "code",
   "execution_count": null,
   "metadata": {},
   "outputs": [],
   "source": [
    ""
   ]
  },
  {
   "cell_type": "code",
   "execution_count": 13,
   "metadata": {},
   "outputs": [],
   "source": [
    "test_features = pd.read_csv('dengue_features_test.csv', usecols=feature_columns)\n",
    "\n",
    "test_features = test_features.fillna(test_features.mean())\n",
    "\n",
    "test_features_sj = test_features[test_features['city']=='sj']\n",
    "test_features_iq = test_features[test_features['city']=='iq']\n",
    "\n",
    "test_features_sj = test_features_sj.drop('city', axis=1)\n",
    "test_features_iq = test_features_iq.drop('city', axis=1)\n",
    "\n",
    "predictions_sj = model.predict(test_features_sj).astype(int)\n",
    "predictions_sj = predictions_sj.clip(min=0)\n",
    "predictions_iq = model1.predict(test_features_iq).astype(int)\n",
    "predictions_iq = predictions_iq.clip(min=0)\n",
    "\n",
    "total_preditions = np.concatenate((predictions_sj, predictions_iq))\n",
    "np.savetxt(\"foo.csv\", total_preditions, delimiter=\",\")"
   ]
  }
 ],
 "metadata": {
  "kernelspec": {
   "display_name": "Python 3",
   "language": "python",
   "name": "python3"
  },
  "language_info": {
   "codemirror_mode": {
    "name": "ipython",
    "version": 3.0
   },
   "file_extension": ".py",
   "mimetype": "text/x-python",
   "name": "python",
   "nbconvert_exporter": "python",
   "pygments_lexer": "ipython3",
   "version": "3.5.2"
  }
 },
 "nbformat": 4,
 "nbformat_minor": 0
}