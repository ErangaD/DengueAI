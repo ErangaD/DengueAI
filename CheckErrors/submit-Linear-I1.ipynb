{
 "cells": [
  {
   "cell_type": "code",
   "execution_count": 10,
   "metadata": {},
   "outputs": [],
   "source": [
    "import pandas as pd\n",
    "import scipy as sc\n",
    "from sklearn.model_selection import train_test_split\n",
    "from sklearn.metrics import mean_absolute_error\n",
    "\n",
    "feature_columns = ['city', 'weekofyear',\n",
    " 'precipitation_amt_mm',\n",
    " 'reanalysis_air_temp_k',\n",
    " 'reanalysis_avg_temp_k',\n",
    " 'reanalysis_dew_point_temp_k',\n",
    " 'reanalysis_precip_amt_kg_per_m2',\n",
    " 'reanalysis_relative_humidity_percent',\n",
    " 'reanalysis_sat_precip_amt_mm',\n",
    " 'reanalysis_specific_humidity_g_per_kg',\n",
    " 'station_avg_temp_c']\n",
    "\n",
    "#ndvi = density of green\n",
    "#precipitation = rain amount\n",
    "\n",
    "df = pd.read_csv('dengue_features_train.csv', usecols=feature_columns)\n",
    "df['precipitation_amt_mm'] = df['precipitation_amt_mm'].rolling(window=5, min_periods=(1)).mean()\n",
    "df['reanalysis_air_temp_k'] = df['reanalysis_air_temp_k'].rolling(window=5,  min_periods=(1)).median()\n",
    "df['reanalysis_avg_temp_k'] = df['reanalysis_avg_temp_k'].rolling(window=5,  min_periods=(1)).mean()\n",
    "df['reanalysis_dew_point_temp_k'] = df['reanalysis_dew_point_temp_k'].rolling(window=5,  min_periods=(1)).median()\n",
    "\n",
    "df['reanalysis_precip_amt_kg_per_m2'] = df['reanalysis_precip_amt_kg_per_m2'].rolling(window=5,  min_periods=(1)).median()\n",
    "df['reanalysis_relative_humidity_percent'] = df['reanalysis_relative_humidity_percent'].rolling(window=5,  min_periods=(1)).mean()\n",
    "df['reanalysis_sat_precip_amt_mm'] = df['reanalysis_sat_precip_amt_mm'].rolling(window=5,  min_periods=(1)).median()\n",
    "df['reanalysis_specific_humidity_g_per_kg'] = df['reanalysis_specific_humidity_g_per_kg'].rolling(window=5,  min_periods=(1)).median()\n",
    "df['station_avg_temp_c'] = df['station_avg_temp_c'].rolling(window=5,  min_periods=(1)).mean()\n",
    "\n",
    "# df = df.fillna(df.mean())\n",
    "# df['ndvi_ne']=df['ndvi_ne'].fillna(df['ndvi_nw'])\n",
    "# df['ndvi_nw']=df['ndvi_nw'].fillna(df['ndvi_se'])\n",
    "# df['ndvi_se']=df['ndvi_se'].fillna(df['ndvi_sw'])\n",
    "# df['ndvi_sw']=df['ndvi_sw'].fillna(df['ndvi_ne'])\n",
    "df = df.fillna(df.mean())\n",
    "\n",
    "data_sj = df[df['city']=='sj']\n",
    "data_iq = df[df['city']=='iq']\n",
    "\n",
    "data_sj = data_sj.drop('city', axis=1)\n",
    "data_iq = data_iq.drop('city', axis=1)\n",
    "\n",
    "label_columns = ['city', 'total_cases']\n",
    "labels = pd.read_csv('dengue_labels_train.csv', usecols=label_columns)\n",
    "\n",
    "\n",
    "labels_sj = labels[labels['city']=='sj']\n",
    "labels_iq = labels[labels['city']=='iq']\n",
    "\n",
    "sj_train_features, sj_test_features, sj_train_labels, sj_test_labels = train_test_split(\n",
    "    data_sj, labels_sj['total_cases'], test_size=0.25, random_state=0, shuffle=False)\n",
    "\n",
    "iq_train_features, iq_test_features, iq_train_labels, iq_test_labels = train_test_split(\n",
    "    data_iq, labels_iq['total_cases'], test_size=0.25, random_state=0, shuffle=False)"
   ]
  },
  {
   "cell_type": "code",
   "execution_count": 33,
   "metadata": {},
   "outputs": [],
   "source": [
    "# df['week_start_date'] = pd.to_datetime(df['week_start_date'])\n",
    "# df['week_start_date'] = df['week_start_date'].dt.week"
   ]
  },
  {
   "cell_type": "code",
   "execution_count": 11,
   "metadata": {},
   "outputs": [],
   "source": [
    "test_features = pd.read_csv('dengue_features_test.csv', usecols=feature_columns)\n",
    "\n",
    "test_features['precipitation_amt_mm'] = test_features['precipitation_amt_mm'].rolling(window=5, min_periods=(1)).mean()\n",
    "test_features['reanalysis_air_temp_k'] = test_features['reanalysis_air_temp_k'].rolling(window=5,  min_periods=(1)).median()\n",
    "test_features['reanalysis_avg_temp_k'] = test_features['reanalysis_avg_temp_k'].rolling(window=5,  min_periods=(1)).mean()\n",
    "test_features['reanalysis_dew_point_temp_k'] = test_features['reanalysis_dew_point_temp_k'].rolling(window=5,  min_periods=(1)).median()\n",
    "\n",
    "test_features['reanalysis_precip_amt_kg_per_m2'] = test_features['reanalysis_precip_amt_kg_per_m2'].rolling(window=5,  min_periods=(1)).median()\n",
    "test_features['reanalysis_relative_humidity_percent'] = test_features['reanalysis_relative_humidity_percent'].rolling(window=5,  min_periods=(1)).mean()\n",
    "test_features['reanalysis_sat_precip_amt_mm'] = test_features['reanalysis_sat_precip_amt_mm'].rolling(window=5,  min_periods=(1)).median()\n",
    "test_features['reanalysis_specific_humidity_g_per_kg'] = test_features['reanalysis_specific_humidity_g_per_kg'].rolling(window=5,  min_periods=(1)).median()\n",
    "test_features['station_avg_temp_c'] = test_features['station_avg_temp_c'].rolling(window=5,  min_periods=(1)).mean()\n",
    "\n",
    "test_features = test_features.fillna(test_features.mean())\n",
    "\n",
    "test_features_sj = test_features[test_features['city']=='sj']\n",
    "test_features_iq = test_features[test_features['city']=='iq']\n",
    "\n",
    "test_features_sj = test_features_sj.drop('city', axis=1)\n",
    "test_features_iq = test_features_iq.drop('city', axis=1)"
   ]
  },
  {
   "cell_type": "code",
   "execution_count": null,
   "metadata": {},
   "outputs": [],
   "source": []
  },
  {
   "cell_type": "code",
   "execution_count": 12,
   "metadata": {},
   "outputs": [],
   "source": [
    "import numpy as np\n",
    "from sklearn import linear_model\n",
    "lm1 = linear_model.LinearRegression()\n",
    "\n",
    "# for sj\n",
    "X = sj_train_features\n",
    "y = sj_train_labels\n",
    "model = lm1.fit(X,y)\n",
    "\n",
    "predictions_sj = lm1.predict(test_features_sj).astype(int)\n",
    "predictions_sj = predictions_sj.clip(min=0)"
   ]
  },
  {
   "cell_type": "code",
   "execution_count": 13,
   "metadata": {},
   "outputs": [],
   "source": [
    "lm2 = linear_model.LinearRegression()\n",
    "X1 = iq_train_features\n",
    "y1 = iq_train_labels\n",
    "model = lm2.fit(X1, y1)\n",
    "\n",
    "predictions_iq = lm2.predict(test_features_iq).astype(int)\n",
    "predictions_iq = predictions_iq.clip(min=0)"
   ]
  },
  {
   "cell_type": "code",
   "execution_count": 14,
   "metadata": {},
   "outputs": [],
   "source": [
    "total_preditions = np.concatenate((predictions_sj, predictions_iq))\n",
    "np.savetxt(\"foo.csv\", total_preditions, delimiter=\",\")"
   ]
  },
  {
   "cell_type": "code",
   "execution_count": 15,
   "metadata": {},
   "outputs": [],
   "source": [
    "sq_pred_val = lm1.predict(sj_test_features).astype(int)\n",
    "iq_pred_val = lm2.predict(iq_test_features).astype(int)\n",
    "\n",
    "iq_error = mean_absolute_error(iq_test_labels, iq_pred_val)\n",
    "sj_error = mean_absolute_error(sj_test_labels, sq_pred_val)"
   ]
  },
  {
   "cell_type": "code",
   "execution_count": 16,
   "metadata": {},
   "outputs": [
    {
     "data": {
      "text/plain": [
       "(22.77777777777778, 9.007692307692308)"
      ]
     },
     "execution_count": 16,
     "metadata": {},
     "output_type": "execute_result"
    }
   ],
   "source": [
    "sj_error, iq_error"
   ]
  },
  {
   "cell_type": "code",
   "execution_count": 16,
   "metadata": {},
   "outputs": [],
   "source": []
  },
  {
   "cell_type": "code",
   "execution_count": null,
   "metadata": {},
   "outputs": [],
   "source": [
    "# --------------------------------------------- Random Forest ---------------------------------"
   ]
  },
  {
   "cell_type": "code",
   "execution_count": 66,
   "metadata": {},
   "outputs": [],
   "source": [
    "# from sklearn.ensemble import RandomForestRegressor\n",
    "# model = RandomForestRegressor(n_estimators=1000, max_features='auto',\n",
    "#                                  max_depth=10, min_samples_leaf=0.005,\n",
    "#                                  criterion='mae', min_weight_fraction_leaf=0.1\n",
    "#                                 , warm_start=True)\n",
    "# model.fit(X,y)\n",
    "\n",
    "# predictions_sj = model.predict(test_features_sj).astype(int)\n",
    "# predictions_sj = predictions_sj.clip(min=0)\n",
    "# numpy.savetxt(\"foo1.csv\", predictions_sj, delimiter=\",\")\n",
    "\n",
    "# model.fit(X1, y1)\n",
    "# predictions_iq = model.predict(test_features_iq).astype(int)\n",
    "# predictions_iq = predictions_iq.clip(min=0)\n",
    "# numpy.savetxt(\"foo2.csv\", predictions_iq, delimiter=\",\")"
   ]
  },
  {
   "cell_type": "code",
   "execution_count": null,
   "metadata": {},
   "outputs": [],
   "source": []
  },
  {
   "cell_type": "code",
   "execution_count": null,
   "metadata": {},
   "outputs": [],
   "source": []
  },
  {
   "cell_type": "code",
   "execution_count": null,
   "metadata": {},
   "outputs": [],
   "source": []
  }
 ],
 "metadata": {
  "kernelspec": {
   "display_name": "Python 3",
   "language": "python",
   "name": "python3"
  },
  "language_info": {
   "codemirror_mode": {
    "name": "ipython",
    "version": 3
   },
   "file_extension": ".py",
   "mimetype": "text/x-python",
   "name": "python",
   "nbconvert_exporter": "python",
   "pygments_lexer": "ipython3",
   "version": "3.5.2"
  }
 },
 "nbformat": 4,
 "nbformat_minor": 1
}
