{
 "cells": [
  {
   "cell_type": "code",
   "execution_count": 1,
   "metadata": {},
   "outputs": [],
   "source": [
    "import pandas as pd\n",
    "import scipy as sc\n",
    "from sklearn.model_selection import train_test_split\n",
    "from sklearn.metrics import mean_absolute_error\n",
    "\n",
    "feature_columns = ['city', 'weekofyear',\n",
    " 'reanalysis_avg_temp_k',\n",
    " 'reanalysis_sat_precip_amt_mm',\n",
    " 'reanalysis_specific_humidity_g_per_kg',\n",
    " 'reanalysis_tdtr_k',\n",
    " 'station_avg_temp_c']\n",
    "\n",
    "#ndvi = density of green\n",
    "#precipitation = rain amount\n",
    "\n",
    "df = pd.read_csv('dengue_features_train.csv', usecols=feature_columns)\n",
    "label_columns = ['city', 'total_cases']\n",
    "labels = pd.read_csv('dengue_labels_train.csv', usecols=label_columns)\n",
    "\n",
    "data = pd.concat([df, labels['total_cases']], axis=1, join_axes=[df.index])\n",
    "\n",
    "data = data.dropna()\n",
    "\n",
    "data['reanalysis_sat_precip_amt_mm'] = data['reanalysis_sat_precip_amt_mm'].rolling(window=30, min_periods=(1)).mean()\n",
    "\n",
    "data_sj = data[data['city']=='sj']\n",
    "data_iq = data[data['city']=='iq']\n",
    "\n",
    "data_sj = data_sj.drop('city', axis=1)\n",
    "data_iq = data_iq.drop('city', axis=1)\n",
    "data_sj = data_sj.drop('total_cases', axis=1)\n",
    "data_iq = data_iq.drop('total_cases', axis=1)\n",
    "\n",
    "\n",
    "labels_sj = data[data['city']=='sj']\n",
    "labels_iq = data[data['city']=='iq']\n",
    "\n",
    "sj_train_features, sj_test_features, sj_train_labels, sj_test_labels = train_test_split(\n",
    "    data_sj, labels_sj['total_cases'], test_size=0.25, random_state=0, shuffle=False)\n",
    "\n",
    "iq_train_features, iq_test_features, iq_train_labels, iq_test_labels = train_test_split(\n",
    "    data_iq, labels_iq['total_cases'], test_size=0.25, random_state=0, shuffle=False)"
   ]
  },
  {
   "cell_type": "code",
   "execution_count": 20,
   "metadata": {},
   "outputs": [],
   "source": [
    "test_features = pd.read_csv('dengue_features_test.csv', usecols=feature_columns)\n",
    "\n",
    "test_features['reanalysis_sat_precip_amt_mm'] = test_features['reanalysis_sat_precip_amt_mm'].rolling(window=10, min_periods=(1)).mean()\n",
    "test_features = test_features.fillna(test_features.mean())\n",
    "\n",
    "test_features_sj = test_features[test_features['city']=='sj']\n",
    "test_features_iq = test_features[test_features['city']=='iq']\n",
    "\n",
    "test_features_sj = test_features_sj.drop('city', axis=1)\n",
    "test_features_iq = test_features_iq.drop('city', axis=1)"
   ]
  },
  {
   "cell_type": "code",
   "execution_count": 2,
   "metadata": {},
   "outputs": [],
   "source": [
    "import numpy as np\n",
    "X = sj_train_features\n",
    "y = sj_train_labels\n",
    "\n",
    "\n",
    "X1 = iq_train_features\n",
    "y1 = iq_train_labels"
   ]
  },
  {
   "cell_type": "code",
   "execution_count": 28,
   "metadata": {},
   "outputs": [],
   "source": [
    ""
   ]
  },
  {
   "cell_type": "code",
   "execution_count": null,
   "metadata": {},
   "outputs": [],
   "source": [
    "# --------------------------------------------- Random Forest ---------------------------------"
   ]
  },
  {
   "cell_type": "code",
   "execution_count": 13,
   "metadata": {},
   "outputs": [],
   "source": [
    "from sklearn.ensemble import RandomForestRegressor\n",
    "model = RandomForestRegressor(n_estimators=1000, max_features='auto',\n",
    "                                 max_depth=10, min_samples_leaf=0.005,\n",
    "                                 criterion='mae', min_weight_fraction_leaf=0.1\n",
    "                                , warm_start=True)\n",
    "model.fit(X,y)\n",
    "\n",
    "predictions_sj = model.predict(sj_test_features).astype(int)\n",
    "predictions_sj = predictions_sj.clip(min=0)\n",
    "\n",
    "model1 = RandomForestRegressor(n_estimators=1000, max_features='auto',\n",
    "                                 max_depth=10, min_samples_leaf=0.005,\n",
    "                                 criterion='mae', min_weight_fraction_leaf=0.1\n",
    "                                , warm_start=True)\n",
    "model1.fit(X1, y1)\n",
    "predictions_iq = model1.predict(iq_test_features).astype(int)\n",
    "predictions_iq = predictions_iq.clip(min=0)"
   ]
  },
  {
   "cell_type": "code",
   "execution_count": 14,
   "metadata": {},
   "outputs": [],
   "source": [
    "iq_error = mean_absolute_error(iq_test_labels, predictions_iq)\n",
    "sj_error = mean_absolute_error(sj_test_labels, predictions_sj)"
   ]
  },
  {
   "cell_type": "code",
   "execution_count": 36,
   "metadata": {},
   "outputs": [
    {
     "data": {
      "text/plain": [
       "(17.346153846153847, 7.917355371900826)"
      ]
     },
     "execution_count": 36,
     "metadata": {},
     "output_type": "execute_result"
    }
   ],
   "source": [
    "sj_error, iq_error"
   ]
  },
  {
   "cell_type": "code",
   "execution_count": 7,
   "metadata": {},
   "outputs": [
    {
     "data": {
      "text/plain": [
       "(17.98901098901099, 8.132231404958677)"
      ]
     },
     "execution_count": 7,
     "metadata": {},
     "output_type": "execute_result"
    }
   ],
   "source": [
    "sj_error, iq_error"
   ]
  },
  {
   "cell_type": "code",
   "execution_count": 15,
   "metadata": {},
   "outputs": [
    {
     "data": {
      "text/plain": [
       "(17.895604395604394, 7.884297520661157)"
      ]
     },
     "execution_count": 15,
     "metadata": {},
     "output_type": "execute_result"
    }
   ],
   "source": [
    "sj_error, iq_error"
   ]
  },
  {
   "cell_type": "code",
   "execution_count": 15,
   "metadata": {},
   "outputs": [],
   "source": [
    "from sklearn.neural_network import MLPRegressor\n",
    "model = MLPRegressor(hidden_layer_sizes=(5,),\n",
    "                                       activation='relu',\n",
    "                                       solver='adam',\n",
    "                                       learning_rate='constant',\n",
    "                                       max_iter=1000,\n",
    "                                       learning_rate_init=0.01,\n",
    "                                       alpha=0.01)\n",
    "model.fit(X,y)\n",
    "\n",
    "predictions_sj = model.predict(sj_test_features).astype(int)\n",
    "predictions_sj = predictions_sj.clip(min=0)\n",
    "\n",
    "model1 = MLPRegressor(hidden_layer_sizes=(5,),\n",
    "                                       activation='relu',\n",
    "                                       solver='adam',\n",
    "                                       learning_rate='constant',\n",
    "                                       max_iter=1000,\n",
    "                                       learning_rate_init=0.01,\n",
    "                                       alpha=0.01)\n",
    "model1.fit(X1, y1)\n",
    "predictions_iq = model1.predict(iq_test_features).astype(int)\n",
    "predictions_iq = predictions_iq.clip(min=0)\n",
    "\n",
    "iq_error = mean_absolute_error(iq_test_labels, predictions_iq)\n",
    "sj_error = mean_absolute_error(sj_test_labels, predictions_sj)"
   ]
  },
  {
   "cell_type": "code",
   "execution_count": 16,
   "metadata": {},
   "outputs": [
    {
     "data": {
      "text/plain": [
       "(25.43103448275862, 10.636363636363637)"
      ]
     },
     "execution_count": 16,
     "metadata": {},
     "output_type": "execute_result"
    }
   ],
   "source": [
    "sj_error, iq_error"
   ]
  },
  {
   "cell_type": "code",
   "execution_count": 24,
   "metadata": {},
   "outputs": [
    {
     "data": {
      "text/plain": [
       "(32.75431034482759, 13.892561983471074)"
      ]
     },
     "execution_count": 24,
     "metadata": {},
     "output_type": "execute_result"
    }
   ],
   "source": [
    "sj_error, iq_error"
   ]
  },
  {
   "cell_type": "code",
   "execution_count": 21,
   "metadata": {},
   "outputs": [],
   "source": [
    "predictions_sj = model.predict(test_features_sj).astype(int)\n",
    "predictions_sj = predictions_sj.clip(min=0)\n",
    "predictions_iq = model1.predict(test_features_iq).astype(int)\n",
    "predictions_iq = predictions_iq.clip(min=0)\n",
    "\n",
    "total_preditions = np.concatenate((predictions_sj, predictions_iq))\n",
    "np.savetxt(\"foo.csv\", total_preditions, delimiter=\",\")"
   ]
  }
 ],
 "metadata": {
  "kernelspec": {
   "display_name": "Python 3",
   "language": "python",
   "name": "python3"
  },
  "language_info": {
   "codemirror_mode": {
    "name": "ipython",
    "version": 3.0
   },
   "file_extension": ".py",
   "mimetype": "text/x-python",
   "name": "python",
   "nbconvert_exporter": "python",
   "pygments_lexer": "ipython3",
   "version": "3.5.2"
  }
 },
 "nbformat": 4,
 "nbformat_minor": 0
}